{
  "nbformat": 4,
  "nbformat_minor": 0,
  "metadata": {
    "colab": {
      "name": "Cat_Vs_Dog using Transfer Learning.ipynb",
      "provenance": [],
      "authorship_tag": "ABX9TyMJzj3WGW48m9gaNhq5ZGpj",
      "include_colab_link": true
    },
    "kernelspec": {
      "name": "python3",
      "display_name": "Python 3"
    },
    "language_info": {
      "name": "python"
    },
    "accelerator": "GPU"
  },
  "cells": [
    {
      "cell_type": "markdown",
      "metadata": {
        "id": "view-in-github",
        "colab_type": "text"
      },
      "source": [
        "<a href=\"https://colab.research.google.com/github/Arpitkamal/Cat-Vs-Dog-with-Data-Augmentation/blob/main/Cat_Vs_Dog_using_Transfer_Learning.ipynb\" target=\"_parent\"><img src=\"https://colab.research.google.com/assets/colab-badge.svg\" alt=\"Open In Colab\"/></a>"
      ]
    },
    {
      "cell_type": "code",
      "execution_count": null,
      "metadata": {
        "colab": {
          "base_uri": "https://localhost:8080/"
        },
        "id": "youDfnzS_tN1",
        "outputId": "8e74271b-d8dc-421b-f8bf-c9663f73dbe3"
      },
      "outputs": [
        {
          "output_type": "stream",
          "name": "stdout",
          "text": [
            "--2022-01-16 17:48:29--  https://storage.googleapis.com/mledu-datasets/inception_v3_weights_tf_dim_ordering_tf_kernels_notop.h5\n",
            "Resolving storage.googleapis.com (storage.googleapis.com)... 108.177.12.128, 108.177.13.128, 74.125.26.128, ...\n",
            "Connecting to storage.googleapis.com (storage.googleapis.com)|108.177.12.128|:443... connected.\n",
            "HTTP request sent, awaiting response... 200 OK\n",
            "Length: 87910968 (84M) [application/x-hdf]\n",
            "Saving to: ‘/tmp/inception_v3_weights_tf_dim_ordering_tf_kernels_notop.h5’\n",
            "\n",
            "/tmp/inception_v3_w 100%[===================>]  83.84M   291MB/s    in 0.3s    \n",
            "\n",
            "2022-01-16 17:48:29 (291 MB/s) - ‘/tmp/inception_v3_weights_tf_dim_ordering_tf_kernels_notop.h5’ saved [87910968/87910968]\n",
            "\n",
            "last layer output shape:  (None, 7, 7, 768)\n"
          ]
        }
      ],
      "source": [
        "import os\n",
        "\n",
        "from tensorflow.keras import layers\n",
        "from tensorflow.keras import Model\n",
        "!wget --no-check-certificate \\\n",
        "    https://storage.googleapis.com/mledu-datasets/inception_v3_weights_tf_dim_ordering_tf_kernels_notop.h5 \\\n",
        "    -O /tmp/inception_v3_weights_tf_dim_ordering_tf_kernels_notop.h5\n",
        "  \n",
        "from tensorflow.keras.applications.inception_v3 import InceptionV3\n",
        "\n",
        "local_weights_file = '/tmp/inception_v3_weights_tf_dim_ordering_tf_kernels_notop.h5'\n",
        "\n",
        "pre_trained_model = InceptionV3(input_shape = (150, 150, 3), \n",
        "                                include_top = False, \n",
        "                                weights = None)\n",
        "\n",
        "pre_trained_model.load_weights(local_weights_file)\n",
        "\n",
        "# locked layer\n",
        "for layer in pre_trained_model.layers:\n",
        "  layer.trainable = False\n",
        "  \n",
        "#pre_trained_model.summary()\n",
        "\n",
        "last_layer = pre_trained_model.get_layer('mixed7')\n",
        "print('last layer output shape: ', last_layer.output_shape)\n",
        "last_output = last_layer.output"
      ]
    },
    {
      "cell_type": "code",
      "source": [
        "from tensorflow.keras.optimizers import RMSprop\n",
        "\n",
        "# Flatten the output layer to 1 dimension\n",
        "x = layers.Flatten()(last_output)\n",
        "# Add a fully connected layer with 1,024 hidden units and ReLU activation\n",
        "x = layers.Dense(1024, activation='relu')(x)\n",
        "# Add a dropout rate of 0.2\n",
        "x = layers.Dropout(0.2)(x)                  \n",
        "# Add a final sigmoid layer for classification\n",
        "x = layers.Dense  (1, activation='sigmoid')(x)           \n",
        "\n",
        "model = Model( pre_trained_model.input, x) \n",
        "\n",
        "model.compile(optimizer = RMSprop(lr=0.0001), \n",
        "              loss = 'binary_crossentropy', \n",
        "              metrics = ['accuracy'])"
      ],
      "metadata": {
        "colab": {
          "base_uri": "https://localhost:8080/"
        },
        "id": "-Sy5W2aC_2-G",
        "outputId": "96735806-39fc-435f-cdea-4e8ac8758928"
      },
      "execution_count": null,
      "outputs": [
        {
          "output_type": "stream",
          "name": "stderr",
          "text": [
            "/usr/local/lib/python3.7/dist-packages/keras/optimizer_v2/rmsprop.py:130: UserWarning: The `lr` argument is deprecated, use `learning_rate` instead.\n",
            "  super(RMSprop, self).__init__(name, **kwargs)\n"
          ]
        }
      ]
    },
    {
      "cell_type": "code",
      "source": [
        "!wget --no-check-certificate \\\n",
        "        https://storage.googleapis.com/mledu-datasets/cats_and_dogs_filtered.zip \\\n",
        "       -O /tmp/cats_and_dogs_filtered.zip\n",
        "\n",
        "from tensorflow.keras.preprocessing.image import ImageDataGenerator\n",
        "\n",
        "import os\n",
        "import zipfile\n",
        "\n",
        "local_zip = '//tmp/cats_and_dogs_filtered.zip'\n",
        "\n",
        "zip_ref = zipfile.ZipFile(local_zip, 'r')\n",
        "\n",
        "zip_ref.extractall('/tmp')\n",
        "zip_ref.close()\n",
        "\n",
        "# Define our example directories and files\n",
        "base_dir = '/tmp/cats_and_dogs_filtered'\n",
        "\n",
        "train_dir = os.path.join( base_dir, 'train')\n",
        "validation_dir = os.path.join( base_dir, 'validation')\n",
        "\n",
        "\n",
        "train_cats_dir = os.path.join(train_dir, 'cats') # Directory with our training cat pictures\n",
        "train_dogs_dir = os.path.join(train_dir, 'dogs') # Directory with our training dog pictures\n",
        "validation_cats_dir = os.path.join(validation_dir, 'cats') # Directory with our validation cat pictures\n",
        "validation_dogs_dir = os.path.join(validation_dir, 'dogs')# Directory with our validation dog pictures\n",
        "\n",
        "train_cat_fnames = os.listdir(train_cats_dir)\n",
        "train_dog_fnames = os.listdir(train_dogs_dir)\n",
        "\n",
        "# Adding data-augmentation parameters to ImageDataGenerator in training data\n",
        "train_datagen = ImageDataGenerator(rescale = 1./255.,\n",
        "                                   rotation_range = 40,\n",
        "                                   width_shift_range = 0.2,\n",
        "                                   height_shift_range = 0.2,\n",
        "                                   shear_range = 0.2,\n",
        "                                   zoom_range = 0.2,\n",
        "                                   horizontal_flip = True)\n",
        "\n",
        "# Adding data-augmentation parameters to ImageDataGenerator in testing data\n",
        "test_datagen = ImageDataGenerator( rescale = 1.0/255.,\n",
        "                                   rotation_range = 40,\n",
        "                                   width_shift_range = 0.2,\n",
        "                                   height_shift_range = 0.2,\n",
        "                                   shear_range = 0.2,\n",
        "                                   zoom_range = 0.2,\n",
        "                                   horizontal_flip = True)\n",
        "\n",
        "# Flow training images in batches of 20 using train_datagen generator\n",
        "train_generator = train_datagen.flow_from_directory(train_dir,\n",
        "                                                    batch_size = 20,\n",
        "                                                    class_mode = 'binary', \n",
        "                                                    target_size = (150, 150))     \n",
        "\n",
        "# Flow validation images in batches of 20 using test_datagen generator\n",
        "validation_generator =  test_datagen.flow_from_directory( validation_dir,\n",
        "                                                          batch_size  = 20,\n",
        "                                                          class_mode  = 'binary', \n",
        "                                                          target_size = (150, 150))"
      ],
      "metadata": {
        "colab": {
          "base_uri": "https://localhost:8080/"
        },
        "id": "XWI1se3k_-1Q",
        "outputId": "9eff0246-a633-4e9d-ed3d-2eb0b5a2e597"
      },
      "execution_count": null,
      "outputs": [
        {
          "output_type": "stream",
          "name": "stdout",
          "text": [
            "--2022-01-16 17:48:33--  https://storage.googleapis.com/mledu-datasets/cats_and_dogs_filtered.zip\n",
            "Resolving storage.googleapis.com (storage.googleapis.com)... 173.194.210.128, 173.194.211.128, 173.194.212.128, ...\n",
            "Connecting to storage.googleapis.com (storage.googleapis.com)|173.194.210.128|:443... connected.\n",
            "HTTP request sent, awaiting response... 200 OK\n",
            "Length: 68606236 (65M) [application/zip]\n",
            "Saving to: ‘/tmp/cats_and_dogs_filtered.zip’\n",
            "\n",
            "/tmp/cats_and_dogs_ 100%[===================>]  65.43M   252MB/s    in 0.3s    \n",
            "\n",
            "2022-01-16 17:48:34 (252 MB/s) - ‘/tmp/cats_and_dogs_filtered.zip’ saved [68606236/68606236]\n",
            "\n",
            "Found 2000 images belonging to 2 classes.\n",
            "Found 1000 images belonging to 2 classes.\n"
          ]
        }
      ]
    },
    {
      "cell_type": "code",
      "source": [
        "history = model.fit(\n",
        "            train_generator,\n",
        "            validation_data = validation_generator,\n",
        "            steps_per_epoch = 100,\n",
        "            epochs = 50,\n",
        "            validation_steps = 50,\n",
        "            verbose = 2)"
      ],
      "metadata": {
        "colab": {
          "base_uri": "https://localhost:8080/"
        },
        "id": "zMhFd4reAHfy",
        "outputId": "1466c703-25c1-4ca5-dac6-db480e837df1"
      },
      "execution_count": null,
      "outputs": [
        {
          "output_type": "stream",
          "name": "stdout",
          "text": [
            "Epoch 1/50\n",
            "100/100 - 35s - loss: 0.3423 - accuracy: 0.8720 - val_loss: 0.2076 - val_accuracy: 0.9190 - 35s/epoch - 347ms/step\n",
            "Epoch 2/50\n",
            "100/100 - 22s - loss: 0.2109 - accuracy: 0.9140 - val_loss: 0.1780 - val_accuracy: 0.9270 - 22s/epoch - 221ms/step\n",
            "Epoch 3/50\n",
            "100/100 - 22s - loss: 0.2271 - accuracy: 0.9190 - val_loss: 0.1692 - val_accuracy: 0.9400 - 22s/epoch - 218ms/step\n",
            "Epoch 4/50\n",
            "100/100 - 22s - loss: 0.2029 - accuracy: 0.9220 - val_loss: 0.2100 - val_accuracy: 0.9320 - 22s/epoch - 218ms/step\n",
            "Epoch 5/50\n",
            "100/100 - 22s - loss: 0.1796 - accuracy: 0.9410 - val_loss: 0.2101 - val_accuracy: 0.9270 - 22s/epoch - 219ms/step\n",
            "Epoch 6/50\n",
            "100/100 - 22s - loss: 0.1911 - accuracy: 0.9340 - val_loss: 0.1870 - val_accuracy: 0.9350 - 22s/epoch - 218ms/step\n",
            "Epoch 7/50\n",
            "100/100 - 22s - loss: 0.1659 - accuracy: 0.9470 - val_loss: 0.2330 - val_accuracy: 0.9260 - 22s/epoch - 219ms/step\n",
            "Epoch 8/50\n",
            "100/100 - 22s - loss: 0.1805 - accuracy: 0.9445 - val_loss: 0.2545 - val_accuracy: 0.9160 - 22s/epoch - 219ms/step\n",
            "Epoch 9/50\n",
            "100/100 - 22s - loss: 0.1582 - accuracy: 0.9395 - val_loss: 0.2587 - val_accuracy: 0.9220 - 22s/epoch - 218ms/step\n",
            "Epoch 10/50\n",
            "100/100 - 22s - loss: 0.1532 - accuracy: 0.9425 - val_loss: 0.1735 - val_accuracy: 0.9450 - 22s/epoch - 220ms/step\n",
            "Epoch 11/50\n",
            "100/100 - 22s - loss: 0.1739 - accuracy: 0.9450 - val_loss: 0.2050 - val_accuracy: 0.9410 - 22s/epoch - 218ms/step\n",
            "Epoch 12/50\n",
            "100/100 - 22s - loss: 0.1185 - accuracy: 0.9575 - val_loss: 0.1997 - val_accuracy: 0.9380 - 22s/epoch - 221ms/step\n",
            "Epoch 13/50\n",
            "100/100 - 22s - loss: 0.1518 - accuracy: 0.9490 - val_loss: 0.2236 - val_accuracy: 0.9300 - 22s/epoch - 218ms/step\n",
            "Epoch 14/50\n",
            "100/100 - 22s - loss: 0.1668 - accuracy: 0.9465 - val_loss: 0.1776 - val_accuracy: 0.9370 - 22s/epoch - 218ms/step\n",
            "Epoch 15/50\n",
            "100/100 - 22s - loss: 0.1561 - accuracy: 0.9515 - val_loss: 0.2429 - val_accuracy: 0.9310 - 22s/epoch - 218ms/step\n",
            "Epoch 16/50\n",
            "100/100 - 22s - loss: 0.1559 - accuracy: 0.9475 - val_loss: 0.2368 - val_accuracy: 0.9320 - 22s/epoch - 218ms/step\n",
            "Epoch 17/50\n",
            "100/100 - 22s - loss: 0.1381 - accuracy: 0.9560 - val_loss: 0.2490 - val_accuracy: 0.9340 - 22s/epoch - 217ms/step\n",
            "Epoch 18/50\n",
            "100/100 - 22s - loss: 0.1348 - accuracy: 0.9540 - val_loss: 0.1820 - val_accuracy: 0.9380 - 22s/epoch - 217ms/step\n",
            "Epoch 19/50\n",
            "100/100 - 22s - loss: 0.1205 - accuracy: 0.9515 - val_loss: 0.2312 - val_accuracy: 0.9380 - 22s/epoch - 216ms/step\n",
            "Epoch 20/50\n",
            "100/100 - 22s - loss: 0.1188 - accuracy: 0.9585 - val_loss: 0.2368 - val_accuracy: 0.9330 - 22s/epoch - 217ms/step\n",
            "Epoch 21/50\n",
            "100/100 - 22s - loss: 0.1392 - accuracy: 0.9525 - val_loss: 0.1942 - val_accuracy: 0.9330 - 22s/epoch - 218ms/step\n",
            "Epoch 22/50\n",
            "100/100 - 22s - loss: 0.1220 - accuracy: 0.9605 - val_loss: 0.2440 - val_accuracy: 0.9300 - 22s/epoch - 216ms/step\n",
            "Epoch 23/50\n",
            "100/100 - 22s - loss: 0.1280 - accuracy: 0.9570 - val_loss: 0.2773 - val_accuracy: 0.9260 - 22s/epoch - 217ms/step\n",
            "Epoch 24/50\n",
            "100/100 - 22s - loss: 0.1230 - accuracy: 0.9605 - val_loss: 0.2073 - val_accuracy: 0.9300 - 22s/epoch - 216ms/step\n",
            "Epoch 25/50\n",
            "100/100 - 22s - loss: 0.1085 - accuracy: 0.9660 - val_loss: 0.2185 - val_accuracy: 0.9420 - 22s/epoch - 217ms/step\n",
            "Epoch 26/50\n",
            "100/100 - 22s - loss: 0.0977 - accuracy: 0.9635 - val_loss: 0.2462 - val_accuracy: 0.9420 - 22s/epoch - 217ms/step\n",
            "Epoch 27/50\n",
            "100/100 - 22s - loss: 0.1285 - accuracy: 0.9610 - val_loss: 0.2150 - val_accuracy: 0.9390 - 22s/epoch - 218ms/step\n",
            "Epoch 28/50\n",
            "100/100 - 22s - loss: 0.0975 - accuracy: 0.9650 - val_loss: 0.2237 - val_accuracy: 0.9340 - 22s/epoch - 218ms/step\n",
            "Epoch 29/50\n",
            "100/100 - 22s - loss: 0.1077 - accuracy: 0.9665 - val_loss: 0.1800 - val_accuracy: 0.9480 - 22s/epoch - 217ms/step\n",
            "Epoch 30/50\n",
            "100/100 - 22s - loss: 0.1214 - accuracy: 0.9645 - val_loss: 0.2189 - val_accuracy: 0.9440 - 22s/epoch - 217ms/step\n",
            "Epoch 31/50\n",
            "100/100 - 22s - loss: 0.1050 - accuracy: 0.9640 - val_loss: 0.2350 - val_accuracy: 0.9390 - 22s/epoch - 218ms/step\n",
            "Epoch 32/50\n",
            "100/100 - 22s - loss: 0.1109 - accuracy: 0.9630 - val_loss: 0.2151 - val_accuracy: 0.9440 - 22s/epoch - 217ms/step\n",
            "Epoch 33/50\n",
            "100/100 - 22s - loss: 0.1022 - accuracy: 0.9610 - val_loss: 0.2104 - val_accuracy: 0.9430 - 22s/epoch - 216ms/step\n",
            "Epoch 34/50\n",
            "100/100 - 22s - loss: 0.1064 - accuracy: 0.9640 - val_loss: 0.2302 - val_accuracy: 0.9420 - 22s/epoch - 218ms/step\n",
            "Epoch 35/50\n",
            "100/100 - 22s - loss: 0.1045 - accuracy: 0.9675 - val_loss: 0.2341 - val_accuracy: 0.9410 - 22s/epoch - 216ms/step\n",
            "Epoch 36/50\n",
            "100/100 - 22s - loss: 0.0917 - accuracy: 0.9710 - val_loss: 0.3125 - val_accuracy: 0.9350 - 22s/epoch - 217ms/step\n",
            "Epoch 37/50\n",
            "100/100 - 22s - loss: 0.0844 - accuracy: 0.9720 - val_loss: 0.2296 - val_accuracy: 0.9380 - 22s/epoch - 217ms/step\n",
            "Epoch 38/50\n",
            "100/100 - 22s - loss: 0.0943 - accuracy: 0.9715 - val_loss: 0.2252 - val_accuracy: 0.9440 - 22s/epoch - 216ms/step\n",
            "Epoch 39/50\n",
            "100/100 - 22s - loss: 0.0809 - accuracy: 0.9770 - val_loss: 0.2419 - val_accuracy: 0.9410 - 22s/epoch - 216ms/step\n",
            "Epoch 40/50\n",
            "100/100 - 22s - loss: 0.1001 - accuracy: 0.9680 - val_loss: 0.2213 - val_accuracy: 0.9390 - 22s/epoch - 218ms/step\n",
            "Epoch 41/50\n",
            "100/100 - 22s - loss: 0.1041 - accuracy: 0.9665 - val_loss: 0.2456 - val_accuracy: 0.9370 - 22s/epoch - 217ms/step\n",
            "Epoch 42/50\n",
            "100/100 - 22s - loss: 0.0935 - accuracy: 0.9700 - val_loss: 0.2132 - val_accuracy: 0.9440 - 22s/epoch - 218ms/step\n",
            "Epoch 43/50\n",
            "100/100 - 22s - loss: 0.0872 - accuracy: 0.9660 - val_loss: 0.2335 - val_accuracy: 0.9300 - 22s/epoch - 218ms/step\n",
            "Epoch 44/50\n",
            "100/100 - 22s - loss: 0.0737 - accuracy: 0.9745 - val_loss: 0.2341 - val_accuracy: 0.9390 - 22s/epoch - 216ms/step\n",
            "Epoch 45/50\n",
            "100/100 - 22s - loss: 0.1062 - accuracy: 0.9690 - val_loss: 0.2059 - val_accuracy: 0.9370 - 22s/epoch - 218ms/step\n",
            "Epoch 46/50\n",
            "100/100 - 22s - loss: 0.0885 - accuracy: 0.9710 - val_loss: 0.2665 - val_accuracy: 0.9380 - 22s/epoch - 217ms/step\n",
            "Epoch 47/50\n",
            "100/100 - 22s - loss: 0.0823 - accuracy: 0.9745 - val_loss: 0.1625 - val_accuracy: 0.9530 - 22s/epoch - 219ms/step\n",
            "Epoch 48/50\n",
            "100/100 - 22s - loss: 0.0964 - accuracy: 0.9690 - val_loss: 0.2270 - val_accuracy: 0.9390 - 22s/epoch - 221ms/step\n",
            "Epoch 49/50\n",
            "100/100 - 22s - loss: 0.0842 - accuracy: 0.9735 - val_loss: 0.2026 - val_accuracy: 0.9470 - 22s/epoch - 219ms/step\n",
            "Epoch 50/50\n",
            "100/100 - 22s - loss: 0.0673 - accuracy: 0.9775 - val_loss: 0.2918 - val_accuracy: 0.9350 - 22s/epoch - 217ms/step\n"
          ]
        }
      ]
    },
    {
      "cell_type": "code",
      "source": [
        "import matplotlib.pyplot as plt\n",
        "acc = history.history['accuracy']\n",
        "val_acc = history.history['val_accuracy']\n",
        "loss = history.history['loss']\n",
        "val_loss = history.history['val_loss']\n",
        "\n",
        "epochs = range(len(acc))\n",
        "\n",
        "plt.plot(epochs, acc, 'r', label='Training accuracy')\n",
        "plt.plot(epochs, val_acc, 'b', label='Validation accuracy')\n",
        "plt.title('Training and validation accuracy')\n",
        "plt.legend(loc=0)\n",
        "plt.figure()\n",
        "\n",
        "\n",
        "plt.show()"
      ],
      "metadata": {
        "colab": {
          "base_uri": "https://localhost:8080/",
          "height": 300
        },
        "id": "Yj76JlivALsq",
        "outputId": "de63c021-f379-4ac3-97d4-9247426c810a"
      },
      "execution_count": null,
      "outputs": [
        {
          "output_type": "display_data",
          "data": {
            "image/png": "[encoded data removed]",
            "text/plain": [
              "<Figure size 432x288 with 1 Axes>"
            ]
          },
          "metadata": {
            "needs_background": "light"
          }
        },
        {
          "output_type": "display_data",
          "data": {
            "text/plain": [
              "<Figure size 432x288 with 0 Axes>"
            ]
          },
          "metadata": {}
        }
      ]
    },
    {
      "cell_type": "code",
      "source": [
        "file_dir = '/content/Cat_dog_transfer.h5'\n",
        "model.save(file_dir)"
      ],
      "metadata": {
        "id": "N37GKlpoFY9g"
      },
      "execution_count": null,
      "outputs": []
    },
    {
      "cell_type": "code",
      "source": [
        ""
      ],
      "metadata": {
        "id": "0x6euGsWFpPA"
      },
      "execution_count": null,
      "outputs": []
    }
  ]
}